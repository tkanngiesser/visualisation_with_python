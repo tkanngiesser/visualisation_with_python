{
 "cells": [
  {
   "cell_type": "code",
   "execution_count": 1,
   "metadata": {},
   "outputs": [],
   "source": [
    "%matplotlib inline"
   ]
  },
  {
   "cell_type": "code",
   "execution_count": 2,
   "metadata": {},
   "outputs": [],
   "source": [
    "import pandas as pd\n",
    "from scipy import stats\n",
    "import numpy as np\n",
    "import matplotlib.pyplot as plt\n",
    "import numpy as np"
   ]
  },
  {
   "cell_type": "markdown",
   "metadata": {},
   "source": [
    "### Workflow\n",
    "- Import\n",
    "- Tidy data (--> Pandas Dataframe)\n",
    "- Transform data (e.g. add compute new variables = columns e.g. probability\n",
    "- Visualise dataframe / Model"
   ]
  },
  {
   "cell_type": "markdown",
   "metadata": {},
   "source": [
    "### Dataframe"
   ]
  },
  {
   "cell_type": "code",
   "execution_count": 3,
   "metadata": {},
   "outputs": [
    {
     "data": {
      "text/html": [
       "<div>\n",
       "<style scoped>\n",
       "    .dataframe tbody tr th:only-of-type {\n",
       "        vertical-align: middle;\n",
       "    }\n",
       "\n",
       "    .dataframe tbody tr th {\n",
       "        vertical-align: top;\n",
       "    }\n",
       "\n",
       "    .dataframe thead th {\n",
       "        text-align: right;\n",
       "    }\n",
       "</style>\n",
       "<table border=\"1\" class=\"dataframe\">\n",
       "  <thead>\n",
       "    <tr style=\"text-align: right;\">\n",
       "      <th></th>\n",
       "      <th>df10</th>\n",
       "      <th>df4</th>\n",
       "      <th>value</th>\n",
       "    </tr>\n",
       "  </thead>\n",
       "  <tbody>\n",
       "    <tr>\n",
       "      <th>0</th>\n",
       "      <td>0.000000e+00</td>\n",
       "      <td>0.000000</td>\n",
       "      <td>0.0</td>\n",
       "    </tr>\n",
       "    <tr>\n",
       "      <th>1</th>\n",
       "      <td>1.238580e-07</td>\n",
       "      <td>0.023781</td>\n",
       "      <td>0.1</td>\n",
       "    </tr>\n",
       "    <tr>\n",
       "      <th>2</th>\n",
       "      <td>1.885078e-06</td>\n",
       "      <td>0.045242</td>\n",
       "      <td>0.2</td>\n",
       "    </tr>\n",
       "    <tr>\n",
       "      <th>3</th>\n",
       "      <td>9.077779e-06</td>\n",
       "      <td>0.064553</td>\n",
       "      <td>0.3</td>\n",
       "    </tr>\n",
       "    <tr>\n",
       "      <th>4</th>\n",
       "      <td>2.729103e-05</td>\n",
       "      <td>0.081873</td>\n",
       "      <td>0.4</td>\n",
       "    </tr>\n",
       "  </tbody>\n",
       "</table>\n",
       "</div>"
      ],
      "text/plain": [
       "           df10       df4  value\n",
       "0  0.000000e+00  0.000000    0.0\n",
       "1  1.238580e-07  0.023781    0.1\n",
       "2  1.885078e-06  0.045242    0.2\n",
       "3  9.077779e-06  0.064553    0.3\n",
       "4  2.729103e-05  0.081873    0.4"
      ]
     },
     "execution_count": 3,
     "metadata": {},
     "output_type": "execute_result"
    }
   ],
   "source": [
    "chi_values = np.arange(0, 25, .1)\n",
    "chi_values_prob_4 = stats.chi2.pdf(chi_values, 4) #degree of freedom 4\n",
    "chi_values_prob_10 = stats.chi2.pdf(chi_values, 10) #degree of freedom 10\n",
    "chi_value_df = pd.DataFrame({'value': chi_values, 'df4': chi_values_prob_4, 'df10': chi_values_prob_10})\n",
    "chi_value_df.head()"
   ]
  },
  {
   "cell_type": "markdown",
   "metadata": {},
   "source": [
    "### Visualise"
   ]
  },
  {
   "cell_type": "code",
   "execution_count": 4,
   "metadata": {},
   "outputs": [
    {
     "data": {
      "image/png": "[encoded data removed]",
      "text/plain": [
       "<matplotlib.figure.Figure at 0x1a0e946b38>"
      ]
     },
     "metadata": {},
     "output_type": "display_data"
    }
   ],
   "source": [
    "fig,ax = plt.subplots(1,1)\n",
    "\n",
    "ax.plot(chi_value_df['value'].as_matrix(), chi_value_df['df4'].as_matrix(), linestyle='--', label='df4')\n",
    "ax.plot(chi_value_df['value'].as_matrix(), chi_value_df['df10'].as_matrix(), linestyle='-.', label='df10')\n",
    "\n",
    "plt.xlim(0, 25)\n",
    "plt.ylim(0, 0.5)\n",
    "\n",
    "plt.xlabel('$\\chi^2$')\n",
    "plt.ylabel(r'$f(\\chi^2)$')\n",
    "plt.title(r'$\\chi^2\\ \\mathrm{Distribution}$')\n",
    "\n",
    "plt.legend()\n",
    "plt.show()"
   ]
  },
  {
   "cell_type": "markdown",
   "metadata": {},
   "source": [
    "### Testing the variance"
   ]
  },
  {
   "cell_type": "code",
   "execution_count": 12,
   "metadata": {},
   "outputs": [],
   "source": [
    "data = np.array([12.43, 11.71, 14.41, 11.05, 9.53, \n",
    "                            11.66, 9.33, 11.71, 14.35, 13.81])"
   ]
  },
  {
   "cell_type": "markdown",
   "metadata": {},
   "source": [
    "$$ H _ { 0} : \\sigma ^ { 2} \\leq 2.25 $$"
   ]
  },
  {
   "cell_type": "markdown",
   "metadata": {},
   "source": [
    "$$ H _ { 1} : \\sigma ^ { 2} > 2.25 $$"
   ]
  },
  {
   "cell_type": "code",
   "execution_count": 13,
   "metadata": {},
   "outputs": [],
   "source": [
    "sd = data.std(ddof=1)          \n",
    "sigma_null = 1.5\n",
    "N = far_klempt_data2.size"
   ]
  },
  {
   "cell_type": "code",
   "execution_count": 14,
   "metadata": {},
   "outputs": [],
   "source": [
    "test_statistic = (N - 1) * (round((round(sd ** 2, 2) / sigma_null ** 2), 2))"
   ]
  },
  {
   "cell_type": "code",
   "execution_count": 15,
   "metadata": {},
   "outputs": [
    {
     "data": {
      "text/plain": [
       "12.960000000000001"
      ]
     },
     "execution_count": 15,
     "metadata": {},
     "output_type": "execute_result"
    }
   ],
   "source": [
    "test_statistic = round(test_statistic, 2)\n",
    "test_statistic"
   ]
  },
  {
   "cell_type": "code",
   "execution_count": 26,
   "metadata": {},
   "outputs": [
    {
     "data": {
      "text/plain": [
       "0.16442458894528622"
      ]
     },
     "execution_count": 26,
     "metadata": {},
     "output_type": "execute_result"
    }
   ],
   "source": [
    "p_value = 1 - stats.chi2.cdf(test_statistic, df=N-1) #\n",
    "p_value"
   ]
  },
  {
   "cell_type": "code",
   "execution_count": 27,
   "metadata": {},
   "outputs": [],
   "source": [
    "alpha_nivea = .05"
   ]
  },
  {
   "cell_type": "code",
   "execution_count": 33,
   "metadata": {},
   "outputs": [
    {
     "name": "stdout",
     "output_type": "stream",
     "text": [
      "H0 cannot be rejected since 0.16442458894528622 is greater than 0.05\n"
     ]
    }
   ],
   "source": [
    "if p_value <= alpha_nivea:\n",
    "    print(f'H0 can be rejected since {p_value} is less thsn {alpha_nivea}')\n",
    "else:\n",
    "    print(f'H0 cannot be rejected since {p_value} is greater than {alpha_nivea}')"
   ]
  },
  {
   "cell_type": "code",
   "execution_count": null,
   "metadata": {},
   "outputs": [],
   "source": []
  }
 ],
 "metadata": {
  "kernelspec": {
   "display_name": "Python 3",
   "language": "python",
   "name": "python3"
  },
  "language_info": {
   "codemirror_mode": {
    "name": "ipython",
    "version": 3
   },
   "file_extension": ".py",
   "mimetype": "text/x-python",
   "name": "python",
   "nbconvert_exporter": "python",
   "pygments_lexer": "ipython3",
   "version": "3.6.4"
  }
 },
 "nbformat": 4,
 "nbformat_minor": 2
}
